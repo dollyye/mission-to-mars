{
 "cells": [
  {
   "cell_type": "code",
   "execution_count": 1,
   "metadata": {},
   "outputs": [],
   "source": [
    "# Dependencies\n",
    "import time\n",
    "from bs4 import BeautifulSoup\n",
    "import requests\n",
    "from splinter import Browser\n",
    "from selenium import webdriver\n",
    "import pandas as pd"
   ]
  },
  {
   "cell_type": "code",
   "execution_count": 2,
   "metadata": {},
   "outputs": [],
   "source": [
    "#-------------------------------------\n",
    "# NASA Mars News\n",
    "#-------------------------------------\n",
    "\n",
    "# URL of NASA Mars News Site\n",
    "news_url = 'https://mars.nasa.gov/news/'\n",
    "# Retrieve page with the requests module\n",
    "news_response = requests.get(news_url)\n",
    "# Create BeautifulSoup object; parse with 'html.parser'\n",
    "news_soup = BeautifulSoup(news_response.text, 'html.parser')\n",
    "\n",
    "# Examine the results, then get content title text\n",
    "news_title = news_soup.find(\"div\", class_=\"content_title\").a.text.strip()\n",
    "\n",
    "# retrieve the paragraph text\n",
    "news_p = news_soup.find(\"div\", class_=\"rollover_description_inner\").text.strip()"
   ]
  },
  {
   "cell_type": "code",
   "execution_count": 3,
   "metadata": {},
   "outputs": [],
   "source": [
    "#-------------------------------------\n",
    "# JPL Mars Space Images - Featured Image\n",
    "#-------------------------------------\n",
    "\n",
    "nasa_url = \"https://www.jpl.nasa.gov\"\n",
    "img_search = \"/spaceimages/?search=&category=Mars\"\n",
    "mars_url = nasa_url+img_search\n",
    "mars_response = requests.get(mars_url)\n",
    "img_soup = BeautifulSoup(mars_response.text, \"html.parser\")\n",
    "img_src = img_soup.find(\"a\", class_=\"button fancybox\")[\"data-fancybox-href\"]\n",
    "time.sleep(2)\n",
    "featured_image_url = nasa_url+img_src"
   ]
  },
  {
   "cell_type": "code",
   "execution_count": 4,
   "metadata": {},
   "outputs": [],
   "source": [
    "#-------------------------------------\n",
    "# Mars Weather\n",
    "#-------------------------------------\n",
    "\n",
    "twitter_url = \"https://twitter.com/marswxreport?lang=en\"\n",
    "weather_response = requests.get(twitter_url)\n",
    "weather_soup = BeautifulSoup(weather_response.text, \"html.parser\")\n",
    "mars_weather = weather_soup.find(\"div\", class_=\"js-tweet-text-container\").p.text"
   ]
  },
  {
   "cell_type": "code",
   "execution_count": 5,
   "metadata": {},
   "outputs": [],
   "source": [
    "#-------------------------------------\n",
    "# Mars Facts\n",
    "#-------------------------------------\n",
    "facts_url = \"https://space-facts.com/mars/\"\n",
    "tables = pd.read_html(facts_url)\n",
    "facts_df = tables[0]\n",
    "facts_df.to_html('table.html', header=False, index=False, index_names=False)\n",
    "#!open table.html"
   ]
  },
  {
   "cell_type": "code",
   "execution_count": 7,
   "metadata": {},
   "outputs": [],
   "source": [
    "#-------------------------------------\n",
    "# Mars Hemispheres\n",
    "#-------------------------------------\n",
    "\n",
    "browser = Browser('chrome', headless=False)\n",
    "usgs_url = \"https://astrogeology.usgs.gov\"\n",
    "hemisphere_search = \"/search/results?q=hemisphere+enhanced&k1=target&v1=Mars\"\n",
    "browser.visit(usgs_url+hemisphere_search)\n",
    "\n",
    "html = browser.html\n",
    "soup = BeautifulSoup(html, 'html.parser')\n",
    "\n",
    "descriptions = soup.find_all('div', class_='description')\n",
    "\n",
    "title = []\n",
    "url_list = []\n",
    "img_url = []\n",
    "\n",
    "for description in descriptions:\n",
    "    hemisphere_name = description.h3.text.strip()\n",
    "    title.append(hemisphere_name)\n",
    "    hemisphere_url = description.find('a')['href']\n",
    "    url_list.append(hemisphere_url)\n",
    "    time.sleep(2)\n",
    "    \n",
    "hemisphere_url_list = [usgs_url + url for url in url_list]\n",
    "\n",
    "img_url = []\n",
    "\n",
    "for h_url in hemisphere_url_list:\n",
    "    browser = Browser('chrome', headless=False)\n",
    "    browser.visit(h_url)\n",
    "    html = browser.html\n",
    "    soup = BeautifulSoup(html, 'html.parser')\n",
    "    download = soup.find(\"div\", class_=\"downloads\")\n",
    "    hemisphere_img = download.find('a')['href']\n",
    "    time.sleep(2)\n",
    "    img_url.append(hemisphere_img)\n",
    "\n",
    "    \n",
    "hemisphere_image_urls = {'title': title, 'img_url': img_url}"
   ]
  },
  {
   "cell_type": "code",
   "execution_count": 8,
   "metadata": {},
   "outputs": [
    {
     "data": {
      "text/plain": [
       "{'title': ['Cerberus Hemisphere Enhanced',\n",
       "  'Schiaparelli Hemisphere Enhanced',\n",
       "  'Syrtis Major Hemisphere Enhanced',\n",
       "  'Valles Marineris Hemisphere Enhanced'],\n",
       " 'img_url': ['http://astropedia.astrogeology.usgs.gov/download/Mars/Viking/cerberus_enhanced.tif/full.jpg',\n",
       "  'http://astropedia.astrogeology.usgs.gov/download/Mars/Viking/schiaparelli_enhanced.tif/full.jpg',\n",
       "  'http://astropedia.astrogeology.usgs.gov/download/Mars/Viking/syrtis_major_enhanced.tif/full.jpg',\n",
       "  'http://astropedia.astrogeology.usgs.gov/download/Mars/Viking/valles_marineris_enhanced.tif/full.jpg']}"
      ]
     },
     "execution_count": 8,
     "metadata": {},
     "output_type": "execute_result"
    }
   ],
   "source": [
    "hemisphere_image_urls"
   ]
  },
  {
   "cell_type": "code",
   "execution_count": 23,
   "metadata": {},
   "outputs": [],
   "source": [
    "hemisphere_image_urls = []\n",
    "for i, j in zip(title, img_url):\n",
    "    hemi = {\"title\": i, \"img_url\": j}\n",
    "    hemisphere_image_urls.append(hemi)"
   ]
  },
  {
   "cell_type": "code",
   "execution_count": 24,
   "metadata": {},
   "outputs": [
    {
     "data": {
      "text/plain": [
       "[{'title': 'Cerberus Hemisphere Enhanced',\n",
       "  'img_url': 'http://astropedia.astrogeology.usgs.gov/download/Mars/Viking/cerberus_enhanced.tif/full.jpg'},\n",
       " {'title': 'Schiaparelli Hemisphere Enhanced',\n",
       "  'img_url': 'http://astropedia.astrogeology.usgs.gov/download/Mars/Viking/schiaparelli_enhanced.tif/full.jpg'},\n",
       " {'title': 'Syrtis Major Hemisphere Enhanced',\n",
       "  'img_url': 'http://astropedia.astrogeology.usgs.gov/download/Mars/Viking/syrtis_major_enhanced.tif/full.jpg'},\n",
       " {'title': 'Valles Marineris Hemisphere Enhanced',\n",
       "  'img_url': 'http://astropedia.astrogeology.usgs.gov/download/Mars/Viking/valles_marineris_enhanced.tif/full.jpg'}]"
      ]
     },
     "execution_count": 24,
     "metadata": {},
     "output_type": "execute_result"
    }
   ],
   "source": [
    "hemisphere_image_urls"
   ]
  },
  {
   "cell_type": "code",
   "execution_count": null,
   "metadata": {},
   "outputs": [],
   "source": []
  }
 ],
 "metadata": {
  "kernelspec": {
   "display_name": "Python [PythonData]",
   "language": "python",
   "name": "pythondata"
  },
  "language_info": {
   "codemirror_mode": {
    "name": "ipython",
    "version": 3
   },
   "file_extension": ".py",
   "mimetype": "text/x-python",
   "name": "python",
   "nbconvert_exporter": "python",
   "pygments_lexer": "ipython3",
   "version": "3.6.3"
  }
 },
 "nbformat": 4,
 "nbformat_minor": 2
}
